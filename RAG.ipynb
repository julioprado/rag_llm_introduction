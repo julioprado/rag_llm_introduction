{
 "cells": [
  {
   "cell_type": "markdown",
   "id": "b93e133e",
   "metadata": {},
   "source": [
    "## Importando as bibliotecas"
   ]
  },
  {
   "cell_type": "code",
   "execution_count": null,
   "id": "fee2e81c",
   "metadata": {},
   "outputs": [],
   "source": [
    "import os\n",
    "from dotenv import load_dotenv, find_dotenv\n",
    "\n",
    "from langchain_cohere import CohereEmbeddings #faz o embedd\n",
    "from langchain_community.document_loaders import TextLoader # permite carregar arquivos de texto\n",
    "from langchain_text_splitters import CharacterTextSplitter #etapa de fatiamento dos textos em partes menores\n",
    "\n",
    "from langchain_pinecone import PineconeVectorStore #permite armazenar os vetores no pinecone\n",
    "from langchain.memory import ConversationBufferMemory #buffer para uma memoria\n",
    "\n",
    "from langchain.chains.combine_documents import create_stuff_documents_chain\n",
    "from langchain.chains.retrieval import create_retrieval_chain\n",
    "\n",
    "from langchain_groq import ChatGroq\n",
    "from langchain import hub"
   ]
  },
  {
   "cell_type": "markdown",
   "id": "09d8e248",
   "metadata": {},
   "source": [
    "## Carregar variáveis de ambiente"
   ]
  },
  {
   "cell_type": "code",
   "execution_count": 2,
   "id": "c4185785",
   "metadata": {},
   "outputs": [],
   "source": [
    "load_dotenv (find_dotenv())\n",
    "\n",
    "COHERE_API_KEY = os.getenv(\"COHERE_API_KEY\")\n",
    "PINECONE_API_KEY = os.getenv(\"PINECONE_API_KEY\")\n",
    "GROQ_API_KEY = os.getenv(\"GROQ_API_KEY\")"
   ]
  },
  {
   "cell_type": "markdown",
   "id": "f0362065",
   "metadata": {},
   "source": [
    "## Iniciando o banco de dados do PINECONE\n",
    "OBS: primeito devemos criar o index no pinecone cloud"
   ]
  },
  {
   "cell_type": "code",
   "execution_count": 3,
   "id": "baec091c",
   "metadata": {},
   "outputs": [],
   "source": [
    "index_name = \"rag-demo\"\n",
    "embeddings = CohereEmbeddings (\n",
    "\n",
    "    model=\"embed-english-v3.0\",\n",
    "    cohere_api_key=COHERE_API_KEY\n",
    ")"
   ]
  },
  {
   "cell_type": "markdown",
   "id": "ad136f73",
   "metadata": {},
   "source": [
    "## Criando memória"
   ]
  },
  {
   "cell_type": "code",
   "execution_count": 4,
   "id": "7139a83a",
   "metadata": {},
   "outputs": [
    {
     "name": "stderr",
     "output_type": "stream",
     "text": [
      "C:\\Users\\Julio\\AppData\\Local\\Temp\\ipykernel_7736\\1007421997.py:1: LangChainDeprecationWarning: Please see the migration guide at: https://python.langchain.com/docs/versions/migrating_memory/\n",
      "  memory = ConversationBufferMemory (\n"
     ]
    }
   ],
   "source": [
    "memory = ConversationBufferMemory (\n",
    "    memory_key= \"chat_history\",\n",
    "    return_messages=True\n",
    ")"
   ]
  },
  {
   "cell_type": "markdown",
   "id": "a515d1b3",
   "metadata": {},
   "source": [
    "## Carregamento/Ingestão do documento"
   ]
  },
  {
   "cell_type": "code",
   "execution_count": 10,
   "id": "e01f7c10",
   "metadata": {},
   "outputs": [
    {
     "name": "stdout",
     "output_type": "stream",
     "text": [
      "🔥Carregando os documentos...\n",
      "\n",
      "\n"
     ]
    },
    {
     "name": "stderr",
     "output_type": "stream",
     "text": [
      "<>:3: SyntaxWarning: invalid escape sequence '\\D'\n",
      "<>:3: SyntaxWarning: invalid escape sequence '\\D'\n",
      "C:\\Users\\Julio\\AppData\\Local\\Temp\\ipykernel_10160\\1538008509.py:3: SyntaxWarning: invalid escape sequence '\\D'\n",
      "  PATH_FILE = \"E:\\DNC\\Projeto Houer\\Arquivos Projeto Houer\\mediumblog1.txt\"\n"
     ]
    },
    {
     "ename": "NameError",
     "evalue": "name 'TextLoader' is not defined",
     "output_type": "error",
     "traceback": [
      "\u001b[31m---------------------------------------------------------------------------\u001b[39m",
      "\u001b[31mNameError\u001b[39m                                 Traceback (most recent call last)",
      "\u001b[36mCell\u001b[39m\u001b[36m \u001b[39m\u001b[32mIn[10]\u001b[39m\u001b[32m, line 4\u001b[39m\n\u001b[32m      1\u001b[39m \u001b[38;5;28mprint\u001b[39m(\u001b[33m\"\u001b[39m\u001b[33m🔥Carregando os documentos...\u001b[39m\u001b[38;5;130;01m\\n\u001b[39;00m\u001b[38;5;130;01m\\n\u001b[39;00m\u001b[33m\"\u001b[39m)\n\u001b[32m      3\u001b[39m PATH_FILE = \u001b[33m\"\u001b[39m\u001b[33mE:\u001b[39m\u001b[33m\\\u001b[39m\u001b[33mDNC\u001b[39m\u001b[33m\\\u001b[39m\u001b[33mProjeto Houer\u001b[39m\u001b[33m\\\u001b[39m\u001b[33mArquivos Projeto Houer\u001b[39m\u001b[33m\\\u001b[39m\u001b[33mmediumblog1.txt\u001b[39m\u001b[33m\"\u001b[39m\n\u001b[32m----> \u001b[39m\u001b[32m4\u001b[39m loader = \u001b[43mTextLoader\u001b[49m(PATH_FILE)\n\u001b[32m      5\u001b[39m document = loader.load()\n",
      "\u001b[31mNameError\u001b[39m: name 'TextLoader' is not defined"
     ]
    }
   ],
   "source": [
    "print(\"🔥Carregando os documentos...\\n\\n\")\n",
    "\n",
    "PATH_FILE = \"E:\\DNC\\Projeto Houer\\Arquivos Projeto Houer\\mediumblog1.txt\"\n",
    "loader = TextLoader(PATH_FILE)\n",
    "document = loader.load()"
   ]
  },
  {
   "cell_type": "code",
   "execution_count": 7,
   "id": "f82faab7",
   "metadata": {},
   "outputs": [
    {
     "ename": "NameError",
     "evalue": "name 'document' is not defined",
     "output_type": "error",
     "traceback": [
      "\u001b[31m---------------------------------------------------------------------------\u001b[39m",
      "\u001b[31mNameError\u001b[39m                                 Traceback (most recent call last)",
      "\u001b[36mCell\u001b[39m\u001b[36m \u001b[39m\u001b[32mIn[7]\u001b[39m\u001b[32m, line 1\u001b[39m\n\u001b[32m----> \u001b[39m\u001b[32m1\u001b[39m \u001b[43mdocument\u001b[49m\n",
      "\u001b[31mNameError\u001b[39m: name 'document' is not defined"
     ]
    }
   ],
   "source": [
    "document"
   ]
  },
  {
   "cell_type": "markdown",
   "id": "8d7db9c1",
   "metadata": {},
   "source": [
    "## Fatiamento/ Splinting dos documentos"
   ]
  },
  {
   "cell_type": "code",
   "execution_count": 10,
   "id": "17b1caa5",
   "metadata": {},
   "outputs": [
    {
     "name": "stdout",
     "output_type": "stream",
     "text": [
      "Total de partes criadas: 5\n"
     ]
    }
   ],
   "source": [
    "text_splitter = CharacterTextSplitter(chunk_size=1000, chunk_overlap=0)\n",
    "docs = text_splitter.split_documents(document)\n",
    "print(f\"Total de partes criadas: {len(docs)}\")"
   ]
  },
  {
   "cell_type": "markdown",
   "id": "b88c918e",
   "metadata": {},
   "source": [
    "## INSTANCIAR BANCO DE DADOS"
   ]
  },
  {
   "cell_type": "code",
   "execution_count": 3,
   "id": "7065bf0b",
   "metadata": {},
   "outputs": [],
   "source": [
    "import pinecone"
   ]
  },
  {
   "cell_type": "code",
   "execution_count": null,
   "id": "1e4fcb8f",
   "metadata": {},
   "outputs": [
    {
     "ename": "NameError",
     "evalue": "name 'PineconeVectorStore' is not defined",
     "output_type": "error",
     "traceback": [
      "\u001b[31m---------------------------------------------------------------------------\u001b[39m",
      "\u001b[31mNameError\u001b[39m                                 Traceback (most recent call last)",
      "\u001b[36mCell\u001b[39m\u001b[36m \u001b[39m\u001b[32mIn[4]\u001b[39m\u001b[32m, line 1\u001b[39m\n\u001b[32m----> \u001b[39m\u001b[32m1\u001b[39m vectorstore_from_docs = \u001b[43mPineconeVectorStore\u001b[49m.from_documents(\n\u001b[32m      2\u001b[39m     docs, \n\u001b[32m      3\u001b[39m     index_name=index_name, \n\u001b[32m      4\u001b[39m     embedding=embeddings\n\u001b[32m      5\u001b[39m )\n",
      "\u001b[31mNameError\u001b[39m: name 'PineconeVectorStore' is not defined"
     ]
    }
   ],
   "source": [
    "vectorstore_from_docs = PineconeVectorStore.from_documents(\n",
    "    docs, \n",
    "    index_name=index_name, \n",
    "    embedding=embeddings\n",
    ")"
   ]
  }
 ],
 "metadata": {
  "kernelspec": {
   "display_name": ".venv",
   "language": "python",
   "name": "python3"
  },
  "language_info": {
   "codemirror_mode": {
    "name": "ipython",
    "version": 3
   },
   "file_extension": ".py",
   "mimetype": "text/x-python",
   "name": "python",
   "nbconvert_exporter": "python",
   "pygments_lexer": "ipython3",
   "version": "3.13.2"
  }
 },
 "nbformat": 4,
 "nbformat_minor": 5
}
